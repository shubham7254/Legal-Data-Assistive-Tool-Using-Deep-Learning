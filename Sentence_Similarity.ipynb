{
 "cells": [
  {
   "cell_type": "code",
   "execution_count": 1,
   "id": "b73173ae",
   "metadata": {},
   "outputs": [
    {
     "name": "stderr",
     "output_type": "stream",
     "text": [
      "[nltk_data] Downloading package punkt to\n",
      "[nltk_data]     C:\\Users\\Pranav\\AppData\\Roaming\\nltk_data...\n",
      "[nltk_data]   Package punkt is already up-to-date!\n"
     ]
    }
   ],
   "source": [
    "import pandas as pd\n",
    "from rouge import Rouge\n",
    "from sentence_transformers import SentenceTransformer\n",
    "import nltk\n",
    "from nltk.tokenize import sent_tokenize\n",
    "from sklearn.metrics.pairwise import cosine_similarity\n",
    "import re\n",
    "from transformers import AutoTokenizer, AutoModelForSeq2SeqLM\n",
    "\n",
    "nltk.download('punkt')\n",
    "rouge = Rouge()\n",
    "# Create a sentence embedding model\n",
    "sent_model = SentenceTransformer('bert-base-nli-mean-tokens')\n",
    "\n",
    "\n",
    "def preprocess_text(text):\n",
    "    text = text.lower()\n",
    "    text = re.sub(r'[^a-zA-Z0-9\\s.,\"\"]', '', text)\n",
    "    text = re.sub(r'\\s+', ' ', text)\n",
    "    return text\n",
    "\n",
    "# Load the CSV file\n",
    "df = pd.read_csv(\"new_summaries.csv\")\n",
    "\n",
    "# Loop through each row in the CSV file\n",
    "for index, row in df.iterrows():\n",
    "    text = row['Text']\n",
    "\n",
    "    # Preprocess the text\n",
    "    text = preprocess_text(text)\n",
    "\n",
    "    # Tokenize the text into sentences\n",
    "    sentences = sent_tokenize(text)\n",
    "\n",
    "    # Obtain sentence embeddings for each sentence\n",
    "    sentence_embeddings = sent_model.encode(sentences)\n",
    "\n",
    "    # Define the threshold\n",
    "    threshold = 0.4\n",
    "\n",
    "    # Initialize a dictionary to store the results\n",
    "    results = {}\n",
    "\n",
    "    # Loop through each sentence\n",
    "    for i, sent1 in enumerate(sentences):\n",
    "        count = 0\n",
    "        # Loop through each sentence again\n",
    "        for j, sent2 in enumerate(sentences):\n",
    "            if i != j:\n",
    "                # Compute cosine similarity between sentence embeddings\n",
    "                similarity = cosine_similarity(sentence_embeddings[i].reshape(1, -1), sentence_embeddings[j].reshape(1, -1))[0][0]\n",
    "                # If similarity is greater than threshold, increment count\n",
    "                if similarity > threshold:\n",
    "                    count += 1\n",
    "        # Add sentence and count to dictionary\n",
    "        results[sent1] = count\n",
    "\n",
    "    # Sort the dictionary in descending order of values\n",
    "    sorted_results = dict(sorted(results.items(), key=lambda item: item[1], reverse=True))\n",
    "\n",
    "    # Extract only the top 40% of sentences\n",
    "    num_sentences = int(0.4 * len(sorted_results))\n",
    "    top_sentences = list(sorted_results.keys())[:num_sentences]\n",
    "\n",
    "    # Sort the top sentences based on their original order in the text\n",
    "    sorted_top_sentences = sorted(top_sentences, key=lambda x: sentences.index(x))\n",
    "\n",
    "    # Join the top sentences into a text string\n",
    "    text_after_similarity = ' '.join(sorted_top_sentences)\n",
    "    # Initialize the tokenizer and the model\n",
    "    tokenizer = AutoTokenizer.from_pretrained(\"sshleifer/distilbart-cnn-12-6\")  \n",
    "    model = AutoModelForSeq2SeqLM.from_pretrained(\"sshleifer/distilbart-cnn-12-6\")\n",
    "    input_tokenized = tokenizer.encode(text_after_similarity, return_tensors='pt', max_length=1024, truncation=True)\n",
    "    # Generate the summary using the model\n",
    "    summary_ids = model.generate(input_tokenized,\n",
    "                                      num_beams=9,\n",
    "                                      no_repeat_ngram_size=3,\n",
    "                                      length_penalty=2.0,\n",
    "                                      min_length=150,\n",
    "                                      max_length=500,\n",
    "                                      early_stopping=True)\n",
    "    # Decode the generated summary\n",
    "    summary = tokenizer.decode(summary_ids[0], skip_special_tokens=True, clean_up_tokenization_spaces=False)\n",
    "    # Add the generated summary to the Predicted Summary column in the csv\n",
    "    df.at[index, 'Predicted Summary'] = summary\n",
    "    # Get the original summary from the csv\n",
    "    original_summary = row['Original Summary']\n",
    "    # Calculate the Rouge score\n",
    "    scores = rouge.get_scores(summary, original_summary)\n",
    "    # Add the Rouge R1, R2, and RL scores to the respective columns in the csv\n",
    "    df.at[index, 'R1'] = scores[0]['rouge-1']['f']\n",
    "    df.at[index, 'R2'] = scores[0]['rouge-2']['f']\n",
    "    df.at[index, 'Rl'] = scores[0]['rouge-l']['f']\n",
    "\n",
    "# Save the updated csv\n",
    "df.to_csv(\"Output_DistilBart_Sentence_Similarity_100doc.csv\", index=False)\n",
    "\n"
   ]
  },
  {
   "cell_type": "markdown",
   "id": "deef1205",
   "metadata": {},
   "source": [
    "# Rouge Score"
   ]
  },
  {
   "cell_type": "code",
   "execution_count": 2,
   "id": "87b50525",
   "metadata": {},
   "outputs": [
    {
     "name": "stdout",
     "output_type": "stream",
     "text": [
      "Average R1 Score: 0.21568013462413618\n",
      "Average R2 Score: 0.07617523410053513\n",
      "Average Rl Score: 0.1924606707904992\n"
     ]
    }
   ],
   "source": [
    "# Calculate the average scores\n",
    "r1_avg = df['R1'].mean()\n",
    "r2_avg = df['R2'].mean()\n",
    "rl_avg = df['Rl'].mean()\n",
    "\n",
    "# Print the average scores\n",
    "print(f\"Average R1 Score: {r1_avg}\")\n",
    "print(f\"Average R2 Score: {r2_avg}\")\n",
    "print(f\"Average Rl Score: {rl_avg}\")"
   ]
  },
  {
   "cell_type": "markdown",
   "id": "a913e692",
   "metadata": {},
   "source": [
    "# Precision, Recall and F1 Score"
   ]
  },
  {
   "cell_type": "code",
   "execution_count": 3,
   "id": "40a6ad45",
   "metadata": {},
   "outputs": [],
   "source": [
    "import pandas as pd\n",
    "import nltk\n",
    "from nltk import word_tokenize\n",
    "from nltk.metrics import precision, recall, f_measure\n",
    "\n",
    "df = pd.read_csv('Output_DistilBart_Sentence_Similarity_100doc.csv')\n",
    "\n",
    "for index, row in df.iterrows():\n",
    "    predicted_summary = row['Predicted Summary']\n",
    "    original_summary = row['Original Summary']\n",
    "    \n",
    "    predicted_tokens = set(word_tokenize(predicted_summary))\n",
    "    original_tokens = set(word_tokenize(original_summary))\n",
    "\n",
    "    precision_score = precision(original_tokens, predicted_tokens)\n",
    "    recall_score = recall(original_tokens, predicted_tokens)\n",
    "    f1_score = f_measure(original_tokens, predicted_tokens)\n",
    "    \n",
    "    df.at[index, 'Precision'] = precision_score\n",
    "    df.at[index, 'Recall'] = recall_score\n",
    "    df.at[index, 'F1 Score'] = f1_score\n",
    "\n",
    "df.to_csv('Output_DistilBart_Sentence_Similarity_100doc.csv', index=False)\n"
   ]
  },
  {
   "cell_type": "code",
   "execution_count": 4,
   "id": "c3dbb64b",
   "metadata": {},
   "outputs": [
    {
     "name": "stdout",
     "output_type": "stream",
     "text": [
      "Precision mean: 0.45441047612790053\n",
      "Recall mean: 0.17369382611180786\n",
      "F1 Score mean: 0.23511882773966866\n"
     ]
    }
   ],
   "source": [
    "import pandas as pd\n",
    "\n",
    "df = pd.read_csv('Output_DistilBart_Sentence_Similarity_100doc.csv')\n",
    "\n",
    "precision_mean = df['Precision'].mean()\n",
    "recall_mean = df['Recall'].mean()\n",
    "f1_score_mean = df['F1 Score'].mean()\n",
    "\n",
    "print(\"Precision mean:\", precision_mean)\n",
    "print(\"Recall mean:\", recall_mean)\n",
    "print(\"F1 Score mean:\", f1_score_mean)\n"
   ]
  },
  {
   "cell_type": "markdown",
   "id": "5d6fbb5f",
   "metadata": {},
   "source": [
    "# BLEU Score"
   ]
  },
  {
   "cell_type": "code",
   "execution_count": 5,
   "id": "d5cf96be",
   "metadata": {},
   "outputs": [
    {
     "name": "stderr",
     "output_type": "stream",
     "text": [
      "C:\\Users\\Pranav\\anaconda3\\lib\\site-packages\\nltk\\translate\\bleu_score.py:552: UserWarning: \n",
      "The hypothesis contains 0 counts of 4-gram overlaps.\n",
      "Therefore the BLEU score evaluates to 0, independently of\n",
      "how many N-gram overlaps of lower order it contains.\n",
      "Consider using lower n-gram order or use SmoothingFunction()\n",
      "  warnings.warn(_msg)\n",
      "C:\\Users\\Pranav\\anaconda3\\lib\\site-packages\\nltk\\translate\\bleu_score.py:552: UserWarning: \n",
      "The hypothesis contains 0 counts of 3-gram overlaps.\n",
      "Therefore the BLEU score evaluates to 0, independently of\n",
      "how many N-gram overlaps of lower order it contains.\n",
      "Consider using lower n-gram order or use SmoothingFunction()\n",
      "  warnings.warn(_msg)\n",
      "C:\\Users\\Pranav\\anaconda3\\lib\\site-packages\\nltk\\translate\\bleu_score.py:552: UserWarning: \n",
      "The hypothesis contains 0 counts of 2-gram overlaps.\n",
      "Therefore the BLEU score evaluates to 0, independently of\n",
      "how many N-gram overlaps of lower order it contains.\n",
      "Consider using lower n-gram order or use SmoothingFunction()\n",
      "  warnings.warn(_msg)\n"
     ]
    }
   ],
   "source": [
    "import pandas as pd\n",
    "import nltk\n",
    "from nltk.translate.bleu_score import sentence_bleu\n",
    "from nltk.tokenize import word_tokenize\n",
    "\n",
    "df = pd.read_csv('Output_DistilBart_Sentence_Similarity_100doc.csv')\n",
    "\n",
    "for index, row in df.iterrows():\n",
    "    predicted_summary = row['Predicted Summary']\n",
    "    original_summary = row['Original Summary']\n",
    "    \n",
    "    predicted_tokens = word_tokenize(predicted_summary)\n",
    "    original_tokens = word_tokenize(original_summary)\n",
    "\n",
    "    bleu_score = sentence_bleu([original_tokens], predicted_tokens)\n",
    "    \n",
    "    df.at[index, 'BLEU Score'] = bleu_score\n",
    "\n",
    "df.to_csv('Output_DistilBart_Sentence_Similarity_100doc.csv', index=False)\n"
   ]
  },
  {
   "cell_type": "code",
   "execution_count": 6,
   "id": "20031095",
   "metadata": {},
   "outputs": [
    {
     "name": "stdout",
     "output_type": "stream",
     "text": [
      "BLEU Score mean: 0.006713529045199813\n"
     ]
    }
   ],
   "source": [
    "import pandas as pd\n",
    "\n",
    "df = pd.read_csv('Output_DistilBart_Sentence_Similarity_100doc.csv')\n",
    "\n",
    "bleu_score_mean = df['BLEU Score'].mean()\n",
    "\n",
    "print(\"BLEU Score mean:\", bleu_score_mean)"
   ]
  },
  {
   "cell_type": "code",
   "execution_count": null,
   "id": "b6f98c2e",
   "metadata": {},
   "outputs": [],
   "source": []
  }
 ],
 "metadata": {
  "kernelspec": {
   "display_name": "Python 3 (ipykernel)",
   "language": "python",
   "name": "python3"
  },
  "language_info": {
   "codemirror_mode": {
    "name": "ipython",
    "version": 3
   },
   "file_extension": ".py",
   "mimetype": "text/x-python",
   "name": "python",
   "nbconvert_exporter": "python",
   "pygments_lexer": "ipython3",
   "version": "3.9.13"
  }
 },
 "nbformat": 4,
 "nbformat_minor": 5
}
