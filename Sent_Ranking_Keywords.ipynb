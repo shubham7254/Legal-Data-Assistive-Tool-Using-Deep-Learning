{
 "cells": [
  {
   "cell_type": "code",
   "execution_count": 1,
   "id": "58d13143",
   "metadata": {},
   "outputs": [
    {
     "name": "stderr",
     "output_type": "stream",
     "text": [
      "[nltk_data] Downloading package punkt to\n",
      "[nltk_data]     C:\\Users\\Pranav\\AppData\\Roaming\\nltk_data...\n",
      "[nltk_data]   Package punkt is already up-to-date!\n"
     ]
    }
   ],
   "source": [
    "import re\n",
    "from rouge import Rouge\n",
    "import pandas as pd\n",
    "import nltk\n",
    "from nltk.tokenize import sent_tokenize, word_tokenize\n",
    "from nltk.corpus import stopwords\n",
    "from transformers import AutoTokenizer, AutoModelForSeq2SeqLM\n",
    "\n",
    "def preprocess_text(text):\n",
    "    text = text.lower()\n",
    "    text = re.sub(r'[^a-zA-Z0-9\\s]', '', text)\n",
    "    text = re.sub(r'\\s+', ' ', text)\n",
    "    return text\n",
    "\n",
    "def extract_keywords(pre):\n",
    "    stop_words = set(stopwords.words(\"english\"))\n",
    "    sentences = sent_tokenize(pre)\n",
    "    keywords = []\n",
    "    for sentence in sentences:\n",
    "        words = word_tokenize(sentence.lower())\n",
    "        words = [word for word in words if word.isalpha()]\n",
    "        words = [word for word in words if word not in stop_words]\n",
    "        keywords.extend(words)\n",
    "    keywords = nltk.FreqDist(keywords)\n",
    "    keywords = keywords.most_common(200)\n",
    "    return [word[0] for word in keywords]\n",
    "\n",
    "def rank_sentences(sentences, keywords):\n",
    "    sentence_scores = {}\n",
    "    for sentence in sentences:\n",
    "        score = 0\n",
    "        for keyword in keywords:\n",
    "            if keyword in sentence.lower():\n",
    "                score += 1\n",
    "        sentence_scores[sentence] = score\n",
    "    sorted_sentences = sorted(sentence_scores.items(), key=lambda x: x[1], reverse=True)\n",
    "    return [sentence[0] for sentence in sorted_sentences]\n",
    "\n",
    "def generate_summary(ranked_sentences, model, tokenizer):\n",
    "    text = \" \".join(ranked_sentences)\n",
    "    input_tokenized = tokenizer.encode(text, return_tensors='pt', max_length=1024, truncation=True)\n",
    "    summary_ids = model.generate(input_tokenized,\n",
    "                                  num_beams=9,\n",
    "                                  no_repeat_ngram_size=3,\n",
    "                                  length_penalty=2.0,\n",
    "                                  min_length=150,\n",
    "                                  max_length=500,\n",
    "                                  early_stopping=True)\n",
    "    summary = [tokenizer.decode(g, skip_special_tokens=True, clean_up_tokenization_spaces=False) for g in summary_ids][0]\n",
    "    return summary\n",
    "\n",
    "nltk.download('punkt')\n",
    "\n",
    "df = pd.read_csv(\"new_summaries.csv\")\n",
    "tokenizer = AutoTokenizer.from_pretrained(\"sshleifer/distilbart-cnn-12-6\")  \n",
    "model = AutoModelForSeq2SeqLM.from_pretrained(\"sshleifer/distilbart-cnn-12-6\")\n",
    "\n",
    "for index, row in df.iterrows():\n",
    "    text = preprocess_text(row['Text'])\n",
    "    keywords = extract_keywords(text)\n",
    "    sentences = sent_tokenize(text)\n",
    "    ranked_sentences = rank_sentences(sentences, keywords)\n",
    "    summary = generate_summary(ranked_sentences, model, tokenizer)\n",
    "    df.at[index, 'Predicted Summary'] = summary\n",
    "\n",
    "df.to_csv(\"Output_DistilBart_Sent_Ranking_Keywords_100doc.csv\", index=False)\n"
   ]
  },
  {
   "cell_type": "code",
   "execution_count": 2,
   "id": "bed3723a",
   "metadata": {},
   "outputs": [],
   "source": [
    "import pandas as pd\n",
    "from rouge import Rouge\n",
    "\n",
    "# Load the new_summaries.csv file\n",
    "df = pd.read_csv('Output_DistilBart_Sent_Ranking_Keywords_100doc.csv')\n",
    "\n",
    "# Create the Rouge object\n",
    "rouge = Rouge()\n",
    "\n",
    "# Loop over each row in the dataframe\n",
    "for index, row in df.iterrows():\n",
    "    original_summary = row['Original Summary']\n",
    "    predicted_summary = row['Predicted Summary']\n",
    "    \n",
    "    # Calculate the Rouge scores\n",
    "    scores = rouge.get_scores(predicted_summary, original_summary)\n",
    "    \n",
    "    # Extract the R1, R2, and Rl scores\n",
    "    rouge_1_f1 = scores[0]['rouge-1']['f']\n",
    "    rouge_2_f1 = scores[0]['rouge-2']['f']\n",
    "    rouge_l_f1 = scores[0]['rouge-l']['f']\n",
    "    \n",
    "    # Update the corresponding columns in the dataframe\n",
    "    df.at[index, 'R1'] = rouge_1_f1\n",
    "    df.at[index, 'R2'] = rouge_2_f1\n",
    "    df.at[index, 'Rl'] = rouge_l_f1\n",
    "\n",
    "# Save the updated dataframe to a new csv file\n",
    "df.to_csv(\"Output_DistilBart_Sent_Ranking_Keywords_100doc.csv\", index=False)"
   ]
  },
  {
   "cell_type": "code",
   "execution_count": 3,
   "id": "6f4b6b92",
   "metadata": {},
   "outputs": [
    {
     "name": "stdout",
     "output_type": "stream",
     "text": [
      "Average R1 Score: 0.2122252202232059\n",
      "Average R2 Score: 0.06875776352736505\n",
      "Average Rl Score: 0.18211913385938772\n"
     ]
    }
   ],
   "source": [
    "# Calculate the average scores\n",
    "r1_avg = df['R1'].mean()\n",
    "r2_avg = df['R2'].mean()\n",
    "rl_avg = df['Rl'].mean()\n",
    "\n",
    "# Print the average scores\n",
    "print(f\"Average R1 Score: {r1_avg}\")\n",
    "print(f\"Average R2 Score: {r2_avg}\")\n",
    "print(f\"Average Rl Score: {rl_avg}\")"
   ]
  },
  {
   "cell_type": "code",
   "execution_count": null,
   "id": "06583a39",
   "metadata": {},
   "outputs": [],
   "source": []
  },
  {
   "cell_type": "code",
   "execution_count": 4,
   "id": "129dbb81",
   "metadata": {},
   "outputs": [],
   "source": [
    "import pandas as pd\n",
    "import nltk\n",
    "from nltk import word_tokenize\n",
    "from nltk.metrics import precision, recall, f_measure\n",
    "\n",
    "df = pd.read_csv('Output_DistilBart_Sent_Ranking_Keywords_100doc.csv')\n",
    "\n",
    "for index, row in df.iterrows():\n",
    "    predicted_summary = row['Predicted Summary']\n",
    "    original_summary = row['Original Summary']\n",
    "    \n",
    "    predicted_tokens = set(word_tokenize(predicted_summary))\n",
    "    original_tokens = set(word_tokenize(original_summary))\n",
    "\n",
    "    precision_score = precision(original_tokens, predicted_tokens)\n",
    "    recall_score = recall(original_tokens, predicted_tokens)\n",
    "    f1_score = f_measure(original_tokens, predicted_tokens)\n",
    "    \n",
    "    df.at[index, 'Precision'] = precision_score\n",
    "    df.at[index, 'Recall'] = recall_score\n",
    "    df.at[index, 'F1 Score'] = f1_score\n",
    "\n",
    "df.to_csv('Output_DistilBart_Sent_Ranking_Keywords_100doc.csv', index=False)\n"
   ]
  },
  {
   "cell_type": "code",
   "execution_count": 5,
   "id": "bb080027",
   "metadata": {},
   "outputs": [
    {
     "name": "stdout",
     "output_type": "stream",
     "text": [
      "Precision mean: 0.41596766970521615\n",
      "Recall mean: 0.16860821055047115\n",
      "F1 Score mean: 0.22388654221178084\n"
     ]
    }
   ],
   "source": [
    "import pandas as pd\n",
    "\n",
    "df = pd.read_csv('Output_DistilBart_Sent_Ranking_Keywords_100doc.csv')\n",
    "\n",
    "precision_mean = df['Precision'].mean()\n",
    "recall_mean = df['Recall'].mean()\n",
    "f1_score_mean = df['F1 Score'].mean()\n",
    "\n",
    "print(\"Precision mean:\", precision_mean)\n",
    "print(\"Recall mean:\", recall_mean)\n",
    "print(\"F1 Score mean:\", f1_score_mean)\n"
   ]
  },
  {
   "cell_type": "code",
   "execution_count": null,
   "id": "59ff3ce1",
   "metadata": {},
   "outputs": [],
   "source": []
  },
  {
   "cell_type": "code",
   "execution_count": 6,
   "id": "214b0f5c",
   "metadata": {},
   "outputs": [
    {
     "name": "stderr",
     "output_type": "stream",
     "text": [
      "C:\\Users\\Pranav\\anaconda3\\lib\\site-packages\\nltk\\translate\\bleu_score.py:552: UserWarning: \n",
      "The hypothesis contains 0 counts of 4-gram overlaps.\n",
      "Therefore the BLEU score evaluates to 0, independently of\n",
      "how many N-gram overlaps of lower order it contains.\n",
      "Consider using lower n-gram order or use SmoothingFunction()\n",
      "  warnings.warn(_msg)\n",
      "C:\\Users\\Pranav\\anaconda3\\lib\\site-packages\\nltk\\translate\\bleu_score.py:552: UserWarning: \n",
      "The hypothesis contains 0 counts of 3-gram overlaps.\n",
      "Therefore the BLEU score evaluates to 0, independently of\n",
      "how many N-gram overlaps of lower order it contains.\n",
      "Consider using lower n-gram order or use SmoothingFunction()\n",
      "  warnings.warn(_msg)\n"
     ]
    },
    {
     "name": "stdout",
     "output_type": "stream",
     "text": [
      "BLEU Score mean: 0.0066851032415460735\n"
     ]
    }
   ],
   "source": [
    "import pandas as pd\n",
    "import nltk\n",
    "from nltk.translate.bleu_score import sentence_bleu\n",
    "\n",
    "df = pd.read_csv('Output_DistilBart_Sent_Ranking_Keywords_100doc.csv')\n",
    "\n",
    "for index, row in df.iterrows():\n",
    "    predicted_summary = row['Predicted Summary']\n",
    "    original_summary = row['Original Summary']\n",
    "    \n",
    "    predicted_tokens = word_tokenize(predicted_summary)\n",
    "    original_tokens = word_tokenize(original_summary)\n",
    "\n",
    "    bleu_score = sentence_bleu([original_tokens], predicted_tokens)\n",
    "    \n",
    "    df.at[index, 'BLEU Score'] = bleu_score\n",
    "\n",
    "df.to_csv('Output_DistilBart_Sent_Ranking_Keywords_100doc.csv', index=False)\n",
    "\n",
    "\n",
    "import pandas as pd\n",
    "\n",
    "df = pd.read_csv('Output_DistilBart_Sent_Ranking_Keywords_100doc.csv')\n",
    "\n",
    "bleu_score_mean = df['BLEU Score'].mean()\n",
    "\n",
    "print(\"BLEU Score mean:\", bleu_score_mean)"
   ]
  },
  {
   "cell_type": "code",
   "execution_count": null,
   "id": "3b258a3b",
   "metadata": {},
   "outputs": [],
   "source": []
  }
 ],
 "metadata": {
  "kernelspec": {
   "display_name": "Python 3 (ipykernel)",
   "language": "python",
   "name": "python3"
  },
  "language_info": {
   "codemirror_mode": {
    "name": "ipython",
    "version": 3
   },
   "file_extension": ".py",
   "mimetype": "text/x-python",
   "name": "python",
   "nbconvert_exporter": "python",
   "pygments_lexer": "ipython3",
   "version": "3.9.13"
  }
 },
 "nbformat": 4,
 "nbformat_minor": 5
}
