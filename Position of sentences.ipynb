{
 "cells": [
  {
   "cell_type": "code",
   "execution_count": 1,
   "id": "cab5052a",
   "metadata": {},
   "outputs": [],
   "source": [
    "import pandas as pd\n",
    "from rouge import Rouge\n",
    "import math\n",
    "from transformers import AutoTokenizer, AutoModelForSeq2SeqLM\n",
    "\n",
    "# Load the csv file\n",
    "df = pd.read_csv(\"summaries.csv\")\n",
    "\n",
    "# Initialize the tokenizer and the model\n",
    "tokenizer = AutoTokenizer.from_pretrained(\"sshleifer/distilbart-cnn-12-6\")  \n",
    "model = AutoModelForSeq2SeqLM.from_pretrained(\"sshleifer/distilbart-cnn-12-6\")\n",
    "\n",
    "# Initialize the Rouge scorer\n",
    "rouge = Rouge()\n",
    "\n",
    "# Loop over every row in the csv file\n",
    "for index, row in df.iterrows():\n",
    "    # Get the text from the first column\n",
    "    text = row['Text']\n",
    "    # Calculate the length of the text\n",
    "    text_length = len(text)\n",
    "    # Calculate the start and end positions for slicing\n",
    "    start = math.floor(0.15 * text_length)\n",
    "    end = math.floor(0.85 * text_length)\n",
    "    # Slice the text to get the first 15% from the start and last 35% from the end\n",
    "    text = text[start:end]\n",
    "    # Tokenize the input text\n",
    "    input_tokenized = tokenizer.encode(text, return_tensors='pt', max_length=1024, truncation=True)\n",
    "    # Generate the summary using the model\n",
    "    summary_ids = model.generate(input_tokenized,\n",
    "                                      num_beams=9,\n",
    "                                      no_repeat_ngram_size=3,\n",
    "                                      length_penalty=2.0,\n",
    "                                      min_length=150,\n",
    "                                      max_length=250,\n",
    "                                      early_stopping=True)\n",
    "    # Decode the generated summary\n",
    "    summary = tokenizer.decode(summary_ids[0], skip_special_tokens=True, clean_up_tokenization_spaces=False)\n",
    "    # Add the generated summary to the Predicted Summary column in the csv\n",
    "    df.at[index, 'Predicted Summary'] = summary\n",
    "    # Get the original summary from the csv\n",
    "    original_summary = row['Original Summary']\n",
    "    # Calculate the Rouge score\n",
    "    scores = rouge.get_scores(summary, original_summary)\n",
    "    # Add the Rouge R1, R2, and RL scores to the respective columns in the csv\n",
    "    df.at[index, 'R1'] = scores[0]['rouge-1']['f']\n",
    "    df.at[index, 'R2'] = scores[0]['rouge-2']['f']\n",
    "    df.at[index, 'Rl'] = scores[0]['rouge-l']['f']\n",
    "\n",
    "# Save the updated csv\n",
    "df.to_csv(\"Output_DistilBart_With_Position_45Doc.csv\", index=False)\n"
   ]
  },
  {
   "cell_type": "markdown",
   "id": "9fa603a5",
   "metadata": {},
   "source": [
    "# Rouge Score"
   ]
  },
  {
   "cell_type": "code",
   "execution_count": 2,
   "id": "40ab48f5",
   "metadata": {},
   "outputs": [
    {
     "name": "stdout",
     "output_type": "stream",
     "text": [
      "Average R1 Score: 0.21053302983428573\n",
      "Average R2 Score: 0.0918587108739669\n",
      "Average Rl Score: 0.1990307860267124\n"
     ]
    }
   ],
   "source": [
    "# Calculate the average scores\n",
    "r1_avg = df['R1'].mean()\n",
    "r2_avg = df['R2'].mean()\n",
    "rl_avg = df['Rl'].mean()\n",
    "\n",
    "# Print the average scores\n",
    "print(f\"Average R1 Score: {r1_avg}\")\n",
    "print(f\"Average R2 Score: {r2_avg}\")\n",
    "print(f\"Average Rl Score: {rl_avg}\")"
   ]
  },
  {
   "cell_type": "markdown",
   "id": "f6c1e71c",
   "metadata": {},
   "source": [
    "# Precision Recall"
   ]
  },
  {
   "cell_type": "code",
   "execution_count": 3,
   "id": "acbfe73c",
   "metadata": {},
   "outputs": [],
   "source": [
    "import pandas as pd\n",
    "import nltk\n",
    "from nltk import word_tokenize\n",
    "from nltk.metrics import precision, recall, f_measure\n",
    "\n",
    "df = pd.read_csv('Output_DistilBart_With_Position_45Doc.csv')\n",
    "\n",
    "for index, row in df.iterrows():\n",
    "    predicted_summary = row['Predicted Summary']\n",
    "    original_summary = row['Original Summary']\n",
    "    \n",
    "    predicted_tokens = set(word_tokenize(predicted_summary))\n",
    "    original_tokens = set(word_tokenize(original_summary))\n",
    "\n",
    "    precision_score = precision(original_tokens, predicted_tokens)\n",
    "    recall_score = recall(original_tokens, predicted_tokens)\n",
    "    f1_score = f_measure(original_tokens, predicted_tokens)\n",
    "    \n",
    "    df.at[index, 'Precision'] = precision_score\n",
    "    df.at[index, 'Recall'] = recall_score\n",
    "    df.at[index, 'F1 Score'] = f1_score\n",
    "\n",
    "df.to_csv('Output_DistilBart_With_Position_45Doc.csv', index=False)\n"
   ]
  },
  {
   "cell_type": "code",
   "execution_count": 4,
   "id": "16c5f605",
   "metadata": {},
   "outputs": [
    {
     "name": "stdout",
     "output_type": "stream",
     "text": [
      "Precision mean: 0.5571438806482686\n",
      "Recall mean: 0.1495251848369466\n",
      "F1 Score mean: 0.23180158233099135\n"
     ]
    }
   ],
   "source": [
    "import pandas as pd\n",
    "\n",
    "df = pd.read_csv('Output_DistilBart_With_Position_45Doc.csv')\n",
    "\n",
    "precision_mean = df['Precision'].mean()\n",
    "recall_mean = df['Recall'].mean()\n",
    "f1_score_mean = df['F1 Score'].mean()\n",
    "\n",
    "print(\"Precision mean:\", precision_mean)\n",
    "print(\"Recall mean:\", recall_mean)\n",
    "print(\"F1 Score mean:\", f1_score_mean)\n"
   ]
  },
  {
   "cell_type": "markdown",
   "id": "ca6e74aa",
   "metadata": {},
   "source": [
    "# BLEU Score"
   ]
  },
  {
   "cell_type": "code",
   "execution_count": 8,
   "id": "03c757d5",
   "metadata": {
    "scrolled": true
   },
   "outputs": [
    {
     "name": "stderr",
     "output_type": "stream",
     "text": [
      "/Users/shubhamsuniljagtap/opt/anaconda3/envs/Tensorflow/lib/python3.10/site-packages/nltk/translate/bleu_score.py:552: UserWarning: \n",
      "The hypothesis contains 0 counts of 4-gram overlaps.\n",
      "Therefore the BLEU score evaluates to 0, independently of\n",
      "how many N-gram overlaps of lower order it contains.\n",
      "Consider using lower n-gram order or use SmoothingFunction()\n",
      "  warnings.warn(_msg)\n",
      "/Users/shubhamsuniljagtap/opt/anaconda3/envs/Tensorflow/lib/python3.10/site-packages/nltk/translate/bleu_score.py:552: UserWarning: \n",
      "The hypothesis contains 0 counts of 3-gram overlaps.\n",
      "Therefore the BLEU score evaluates to 0, independently of\n",
      "how many N-gram overlaps of lower order it contains.\n",
      "Consider using lower n-gram order or use SmoothingFunction()\n",
      "  warnings.warn(_msg)\n"
     ]
    }
   ],
   "source": [
    "import pandas as pd\n",
    "import nltk\n",
    "from nltk.translate.bleu_score import sentence_bleu\n",
    "from nltk.tokenize import word_tokenize\n",
    "\n",
    "df = pd.read_csv('Output_DistilBart_With_Position_45Doc.csv')\n",
    "\n",
    "for index, row in df.iterrows():\n",
    "    predicted_summary = row['Predicted Summary']\n",
    "    original_summary = row['Original Summary']\n",
    "    \n",
    "    predicted_tokens = word_tokenize(predicted_summary)\n",
    "    original_tokens = word_tokenize(original_summary)\n",
    "\n",
    "    bleu_score = sentence_bleu([original_tokens], predicted_tokens)\n",
    "    \n",
    "    df.at[index, 'BLEU Score'] = bleu_score\n",
    "\n",
    "df.to_csv('Output_DistilBart_With_Position_45Doc.csv', index=False)\n"
   ]
  },
  {
   "cell_type": "code",
   "execution_count": 9,
   "id": "ce0bc3f9",
   "metadata": {},
   "outputs": [
    {
     "name": "stdout",
     "output_type": "stream",
     "text": [
      "BLEU Score mean: 0.004649022296394179\n"
     ]
    }
   ],
   "source": [
    "import pandas as pd\n",
    "\n",
    "df = pd.read_csv('Output_DistilBart_With_Position_45Doc.csv')\n",
    "\n",
    "bleu_score_mean = df['BLEU Score'].mean()\n",
    "\n",
    "print(\"BLEU Score mean:\", bleu_score_mean)"
   ]
  },
  {
   "cell_type": "code",
   "execution_count": null,
   "id": "38afb7a8",
   "metadata": {},
   "outputs": [],
   "source": []
  }
 ],
 "metadata": {
  "kernelspec": {
   "display_name": "Python 3 (ipykernel)",
   "language": "python",
   "name": "python3"
  },
  "language_info": {
   "codemirror_mode": {
    "name": "ipython",
    "version": 3
   },
   "file_extension": ".py",
   "mimetype": "text/x-python",
   "name": "python",
   "nbconvert_exporter": "python",
   "pygments_lexer": "ipython3",
   "version": "3.9.13"
  }
 },
 "nbformat": 4,
 "nbformat_minor": 5
}
